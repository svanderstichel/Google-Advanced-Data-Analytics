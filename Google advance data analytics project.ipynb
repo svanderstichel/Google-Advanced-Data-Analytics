{
 "cells": [
  {
   "cell_type": "markdown",
   "id": "c9ec9750-4dfc-47a6-a583-a1b7771b3e56",
   "metadata": {},
   "source": [
    "**Google Advance Data Analytics Professional Certificate** - Final project"
   ]
  },
  {
   "cell_type": "markdown",
   "id": "6f83ab72-342f-4413-bdff-2378802f0ea8",
   "metadata": {},
   "source": [
    "**Waze workplace scenario**\n",
    "\n",
    "Main goal: Prevent user churn on the Waze app. Churn quantifies the number of users who have uninstalled the Waze app or stopped using the app.\n",
    "\n",
    "*Developing a churn prediction model will help prevent churn, improve user retention, and grow Waze’s business.*\n",
    "\n",
    "Who are the users most likely to churn?\r\n",
    "\r\n",
    "Why do users chur? \r\n",
    "\r\n",
    "When do users chrn? "
   ]
  },
  {
   "cell_type": "markdown",
   "id": "28a4dfe9-80f3-44d2-bfc1-e7cc3a2e05b6",
   "metadata": {},
   "source": [
    "**Step 1**\n",
    "\n",
    "To get clear insights, the data must be inspected, organized, and prepared for EDA."
   ]
  },
  {
   "cell_type": "code",
   "execution_count": 363,
   "id": "856edf03-03a2-4a07-a31a-354e0f251781",
   "metadata": {},
   "outputs": [
    {
     "name": "stdout",
     "output_type": "stream",
     "text": [
      "<class 'pandas.core.frame.DataFrame'>\n",
      "RangeIndex: 14999 entries, 0 to 14998\n",
      "Data columns (total 13 columns):\n",
      " #   Column                   Non-Null Count  Dtype  \n",
      "---  ------                   --------------  -----  \n",
      " 0   ID                       14999 non-null  int64  \n",
      " 1   label                    14299 non-null  object \n",
      " 2   sessions                 14999 non-null  int64  \n",
      " 3   drives                   14999 non-null  int64  \n",
      " 4   total_sessions           14999 non-null  float64\n",
      " 5   n_days_after_onboarding  14999 non-null  int64  \n",
      " 6   total_navigations_fav1   14999 non-null  int64  \n",
      " 7   total_navigations_fav2   14999 non-null  int64  \n",
      " 8   driven_km_drives         14999 non-null  float64\n",
      " 9   duration_minutes_drives  14999 non-null  float64\n",
      " 10  activity_days            14999 non-null  int64  \n",
      " 11  driving_days             14999 non-null  int64  \n",
      " 12  device                   14999 non-null  object \n",
      "dtypes: float64(3), int64(8), object(2)\n",
      "memory usage: 1.5+ MB\n"
     ]
    }
   ],
   "source": [
    "#IMPORT PACKAGES\n",
    "import pandas as pd\n",
    "import numpy as np\n",
    "\n",
    "#LOAD DATASET INTO DATAFRAME\n",
    "data = pd.read_csv('waze_dataset.csv')\n",
    "\n",
    "#LAST MONTH USER INFOMATION\n",
    "#SUMMARY\n",
    "data.info()"
   ]
  },
  {
   "cell_type": "code",
   "execution_count": 381,
   "id": "7666de99-fc94-4117-a6a1-f4a6b74de49e",
   "metadata": {},
   "outputs": [
    {
     "data": {
      "text/html": [
       "<div>\n",
       "<style scoped>\n",
       "    .dataframe tbody tr th:only-of-type {\n",
       "        vertical-align: middle;\n",
       "    }\n",
       "\n",
       "    .dataframe tbody tr th {\n",
       "        vertical-align: top;\n",
       "    }\n",
       "\n",
       "    .dataframe thead th {\n",
       "        text-align: right;\n",
       "    }\n",
       "</style>\n",
       "<table border=\"1\" class=\"dataframe\">\n",
       "  <thead>\n",
       "    <tr style=\"text-align: right;\">\n",
       "      <th></th>\n",
       "      <th>column name</th>\n",
       "      <th>type</th>\n",
       "      <th>description</th>\n",
       "    </tr>\n",
       "  </thead>\n",
       "  <tbody>\n",
       "    <tr>\n",
       "      <th>0</th>\n",
       "      <td>label</td>\n",
       "      <td>obj</td>\n",
       "      <td>Binary target variable (“retained” vs “churned”) for if a user has churned anytime during the course of the month</td>\n",
       "    </tr>\n",
       "    <tr>\n",
       "      <th>1</th>\n",
       "      <td>sessions</td>\n",
       "      <td>int</td>\n",
       "      <td>The number of occurrence of a user opening the app during the month</td>\n",
       "    </tr>\n",
       "    <tr>\n",
       "      <th>2</th>\n",
       "      <td>drives</td>\n",
       "      <td>int</td>\n",
       "      <td>An occurrence of driving at least 1 km during the month</td>\n",
       "    </tr>\n",
       "    <tr>\n",
       "      <th>3</th>\n",
       "      <td>device</td>\n",
       "      <td>obj</td>\n",
       "      <td>The type of device a user starts a session with</td>\n",
       "    </tr>\n",
       "    <tr>\n",
       "      <th>4</th>\n",
       "      <td>total_sessions</td>\n",
       "      <td>float</td>\n",
       "      <td>A model estimate of the total number of sessions since a user has onboarded</td>\n",
       "    </tr>\n",
       "    <tr>\n",
       "      <th>5</th>\n",
       "      <td>n_days_after_onboarding</td>\n",
       "      <td>int</td>\n",
       "      <td>The number of days since a user signed up for the app</td>\n",
       "    </tr>\n",
       "    <tr>\n",
       "      <th>6</th>\n",
       "      <td>total_navigations_fav1</td>\n",
       "      <td>int</td>\n",
       "      <td>Total navigations since onboarding to the user’s favorite place 1</td>\n",
       "    </tr>\n",
       "    <tr>\n",
       "      <th>7</th>\n",
       "      <td>total_navigations_fav2</td>\n",
       "      <td>int</td>\n",
       "      <td>Total navigations since onboarding to the user’s favorite place 2</td>\n",
       "    </tr>\n",
       "    <tr>\n",
       "      <th>8</th>\n",
       "      <td>driven_km_drives</td>\n",
       "      <td>float</td>\n",
       "      <td>Total kilometers driven during the month</td>\n",
       "    </tr>\n",
       "    <tr>\n",
       "      <th>9</th>\n",
       "      <td>duration_minutes_drives</td>\n",
       "      <td>float</td>\n",
       "      <td>Total duration driven in minutes during the month</td>\n",
       "    </tr>\n",
       "    <tr>\n",
       "      <th>10</th>\n",
       "      <td>activity_days</td>\n",
       "      <td>int</td>\n",
       "      <td>Number of days the user opens the app during the month</td>\n",
       "    </tr>\n",
       "    <tr>\n",
       "      <th>11</th>\n",
       "      <td>driving_days</td>\n",
       "      <td>int</td>\n",
       "      <td>Number of days the user drives (at least 1 km) during the month</td>\n",
       "    </tr>\n",
       "  </tbody>\n",
       "</table>\n",
       "</div>"
      ],
      "text/plain": [
       "                column name   type  \\\n",
       "0                     label    obj   \n",
       "1                  sessions    int   \n",
       "2                    drives    int   \n",
       "3                    device    obj   \n",
       "4            total_sessions  float   \n",
       "5   n_days_after_onboarding    int   \n",
       "6    total_navigations_fav1    int   \n",
       "7    total_navigations_fav2    int   \n",
       "8          driven_km_drives  float   \n",
       "9   duration_minutes_drives  float   \n",
       "10            activity_days    int   \n",
       "11             driving_days    int   \n",
       "\n",
       "                                                                                                           description  \n",
       "0   Binary target variable (“retained” vs “churned”) for if a user has churned anytime during the course of the month   \n",
       "1                                                  The number of occurrence of a user opening the app during the month  \n",
       "2                                                              An occurrence of driving at least 1 km during the month  \n",
       "3                                                                      The type of device a user starts a session with  \n",
       "4                                          A model estimate of the total number of sessions since a user has onboarded  \n",
       "5                                                                The number of days since a user signed up for the app  \n",
       "6                                                    Total navigations since onboarding to the user’s favorite place 1  \n",
       "7                                                    Total navigations since onboarding to the user’s favorite place 2  \n",
       "8                                                                             Total kilometers driven during the month  \n",
       "9                                                                    Total duration driven in minutes during the month  \n",
       "10                                                             Number of days the user opens the app during the month   \n",
       "11                                                     Number of days the user drives (at least 1 km) during the month  "
      ]
     },
     "execution_count": 381,
     "metadata": {},
     "output_type": "execute_result"
    }
   ],
   "source": [
    "#DATASET COLUMN EXPLANATION\n",
    "data_explanation = pd.read_csv('dataset_explanation.csv')\n",
    "pd.set_option('max_colwidth',None)\n",
    "data_explanation"
   ]
  },
  {
   "cell_type": "code",
   "execution_count": 292,
   "id": "204231d3-9638-475c-8ee6-7b7a38cd4e34",
   "metadata": {},
   "outputs": [
    {
     "data": {
      "text/html": [
       "<div>\n",
       "<style scoped>\n",
       "    .dataframe tbody tr th:only-of-type {\n",
       "        vertical-align: middle;\n",
       "    }\n",
       "\n",
       "    .dataframe tbody tr th {\n",
       "        vertical-align: top;\n",
       "    }\n",
       "\n",
       "    .dataframe thead th {\n",
       "        text-align: right;\n",
       "    }\n",
       "</style>\n",
       "<table border=\"1\" class=\"dataframe\">\n",
       "  <thead>\n",
       "    <tr style=\"text-align: right;\">\n",
       "      <th></th>\n",
       "      <th>ID</th>\n",
       "      <th>sessions</th>\n",
       "      <th>drives</th>\n",
       "      <th>total_sessions</th>\n",
       "      <th>n_days_after_onboarding</th>\n",
       "      <th>total_navigations_fav1</th>\n",
       "      <th>total_navigations_fav2</th>\n",
       "      <th>driven_km_drives</th>\n",
       "      <th>duration_minutes_drives</th>\n",
       "      <th>activity_days</th>\n",
       "      <th>driving_days</th>\n",
       "    </tr>\n",
       "  </thead>\n",
       "  <tbody>\n",
       "    <tr>\n",
       "      <th>mean</th>\n",
       "      <td>7405.58</td>\n",
       "      <td>80.84</td>\n",
       "      <td>67.80</td>\n",
       "      <td>198.48</td>\n",
       "      <td>1709.30</td>\n",
       "      <td>118.72</td>\n",
       "      <td>30.37</td>\n",
       "      <td>3935.97</td>\n",
       "      <td>1795.12</td>\n",
       "      <td>15.38</td>\n",
       "      <td>12.13</td>\n",
       "    </tr>\n",
       "    <tr>\n",
       "      <th>std</th>\n",
       "      <td>4306.90</td>\n",
       "      <td>79.99</td>\n",
       "      <td>65.27</td>\n",
       "      <td>140.56</td>\n",
       "      <td>1005.31</td>\n",
       "      <td>156.31</td>\n",
       "      <td>46.31</td>\n",
       "      <td>2443.11</td>\n",
       "      <td>1419.24</td>\n",
       "      <td>8.77</td>\n",
       "      <td>7.63</td>\n",
       "    </tr>\n",
       "  </tbody>\n",
       "</table>\n",
       "</div>"
      ],
      "text/plain": [
       "           ID  sessions  drives  total_sessions  n_days_after_onboarding  \\\n",
       "mean  7405.58     80.84   67.80          198.48                  1709.30   \n",
       "std   4306.90     79.99   65.27          140.56                  1005.31   \n",
       "\n",
       "      total_navigations_fav1  total_navigations_fav2  driven_km_drives  \\\n",
       "mean                  118.72                   30.37           3935.97   \n",
       "std                   156.31                   46.31           2443.11   \n",
       "\n",
       "      duration_minutes_drives  activity_days  driving_days  \n",
       "mean                  1795.12          15.38         12.13  \n",
       "std                   1419.24           8.77          7.63  "
      ]
     },
     "execution_count": 292,
     "metadata": {},
     "output_type": "execute_result"
    }
   ],
   "source": [
    "#700 NULLS VALUES IN LABEL COLUMN\n",
    "#DIFFERENCE BETWEEN THE TWO POPULATIONS\n",
    "\n",
    "#SUMMARY INFORMATION OF ROWS WITH NULL VALUES\n",
    "null_data=data[data['label'].isnull()]\n",
    "null_data.describe().iloc[1:3].round(2)"
   ]
  },
  {
   "cell_type": "code",
   "execution_count": 382,
   "id": "0064a171-2ec7-4a63-bd5f-2c2cca363fdc",
   "metadata": {},
   "outputs": [
    {
     "data": {
      "text/html": [
       "<div>\n",
       "<style scoped>\n",
       "    .dataframe tbody tr th:only-of-type {\n",
       "        vertical-align: middle;\n",
       "    }\n",
       "\n",
       "    .dataframe tbody tr th {\n",
       "        vertical-align: top;\n",
       "    }\n",
       "\n",
       "    .dataframe thead th {\n",
       "        text-align: right;\n",
       "    }\n",
       "</style>\n",
       "<table border=\"1\" class=\"dataframe\">\n",
       "  <thead>\n",
       "    <tr style=\"text-align: right;\">\n",
       "      <th></th>\n",
       "      <th>ID</th>\n",
       "      <th>sessions</th>\n",
       "      <th>drives</th>\n",
       "      <th>total_sessions</th>\n",
       "      <th>n_days_after_onboarding</th>\n",
       "      <th>total_navigations_fav1</th>\n",
       "      <th>total_navigations_fav2</th>\n",
       "      <th>driven_km_drives</th>\n",
       "      <th>duration_minutes_drives</th>\n",
       "      <th>activity_days</th>\n",
       "      <th>driving_days</th>\n",
       "    </tr>\n",
       "  </thead>\n",
       "  <tbody>\n",
       "    <tr>\n",
       "      <th>mean</th>\n",
       "      <td>7503.57</td>\n",
       "      <td>80.62</td>\n",
       "      <td>67.26</td>\n",
       "      <td>189.55</td>\n",
       "      <td>1751.82</td>\n",
       "      <td>121.75</td>\n",
       "      <td>29.64</td>\n",
       "      <td>4044.40</td>\n",
       "      <td>1864.20</td>\n",
       "      <td>15.54</td>\n",
       "      <td>12.18</td>\n",
       "    </tr>\n",
       "    <tr>\n",
       "      <th>std</th>\n",
       "      <td>4331.21</td>\n",
       "      <td>80.74</td>\n",
       "      <td>65.95</td>\n",
       "      <td>136.19</td>\n",
       "      <td>1008.66</td>\n",
       "      <td>147.71</td>\n",
       "      <td>45.35</td>\n",
       "      <td>2504.98</td>\n",
       "      <td>1448.01</td>\n",
       "      <td>9.02</td>\n",
       "      <td>7.83</td>\n",
       "    </tr>\n",
       "  </tbody>\n",
       "</table>\n",
       "</div>"
      ],
      "text/plain": [
       "           ID  sessions  drives  total_sessions  n_days_after_onboarding  \\\n",
       "mean  7503.57     80.62   67.26          189.55                  1751.82   \n",
       "std   4331.21     80.74   65.95          136.19                  1008.66   \n",
       "\n",
       "      total_navigations_fav1  total_navigations_fav2  driven_km_drives  \\\n",
       "mean                  121.75                   29.64           4044.40   \n",
       "std                   147.71                   45.35           2504.98   \n",
       "\n",
       "      duration_minutes_drives  activity_days  driving_days  \n",
       "mean                  1864.20          15.54         12.18  \n",
       "std                   1448.01           9.02          7.83  "
      ]
     },
     "execution_count": 382,
     "metadata": {},
     "output_type": "execute_result"
    }
   ],
   "source": [
    "#SUMMARY INFORMATION OF ROWS WITHOUT NULL VALUES\n",
    "\n",
    "notnull_data=data[data['label'].notnull()]\n",
    "notnull_data.describe().iloc[1:3].round(2)"
   ]
  },
  {
   "cell_type": "code",
   "execution_count": 345,
   "id": "7b484e2c-aac2-4e10-a736-a2397a144f93",
   "metadata": {},
   "outputs": [
    {
     "data": {
      "text/plain": [
       "device\n",
       "Android    253\n",
       "iPhone     447\n",
       "dtype: int64"
      ]
     },
     "execution_count": 345,
     "metadata": {},
     "output_type": "execute_result"
    }
   ],
   "source": [
    "#THE MEANS AND STANDARD DEVIATIONS ARE CONSISTENT\n",
    "#NO REMARKABLE DIFFERENCE BETWEEN THE TWO GROUPS\n",
    "\n",
    "#COUNT OF NULL VALUES BY DEVICE\n",
    "null_data.groupby(['device']).size()"
   ]
  },
  {
   "cell_type": "code",
   "execution_count": 262,
   "id": "f8b7e789-b161-414e-8042-1b4445a427d0",
   "metadata": {},
   "outputs": [
    {
     "data": {
      "text/plain": [
       "device\n",
       "iPhone     63.86%\n",
       "Android    36.14%\n",
       "Name: proportion, dtype: object"
      ]
     },
     "execution_count": 262,
     "metadata": {},
     "output_type": "execute_result"
    }
   ],
   "source": [
    "null_data['device'].value_counts(normalize=True).mul(100).round(2).astype(str)+'%'"
   ]
  },
  {
   "cell_type": "code",
   "execution_count": 271,
   "id": "2fd3901e-7d45-4f73-b10c-446da9732dfa",
   "metadata": {},
   "outputs": [
    {
     "data": {
      "text/plain": [
       "device\n",
       "iPhone     64.48%\n",
       "Android    35.52%\n",
       "Name: proportion, dtype: object"
      ]
     },
     "execution_count": 271,
     "metadata": {},
     "output_type": "execute_result"
    }
   ],
   "source": [
    "#63.86% OF NULL VALUES BELONG TO ADROID USERS\n",
    "#HOWEVER, THIS VALUE IS CONSISTENT WITH THE OVERALL DATA\n",
    "data['device'].value_counts(normalize=True).mul(100).round(2).astype(str)+'%'"
   ]
  },
  {
   "cell_type": "code",
   "execution_count": 343,
   "id": "5a6dd9b5-df28-45fb-866a-6d727a56e249",
   "metadata": {},
   "outputs": [
    {
     "data": {
      "text/plain": [
       "label\n",
       "churned      2536\n",
       "retained    11763\n",
       "dtype: int64"
      ]
     },
     "execution_count": 343,
     "metadata": {},
     "output_type": "execute_result"
    }
   ],
   "source": [
    "#CALCULATE SIZE OF CHURNED VS. RETAINED\n",
    "data.groupby(['label']).size()"
   ]
  },
  {
   "cell_type": "code",
   "execution_count": 283,
   "id": "e1b7eb20-e93c-41c7-8bd6-0ae436d0aca3",
   "metadata": {},
   "outputs": [
    {
     "data": {
      "text/plain": [
       "label\n",
       "retained    82.26%\n",
       "churned     17.74%\n",
       "Name: proportion, dtype: object"
      ]
     },
     "execution_count": 283,
     "metadata": {},
     "output_type": "execute_result"
    }
   ],
   "source": [
    "#DATA SET CONTAINS 82% RETAINED USERS AND 18% CHURNED USERS\n",
    "data['label'].value_counts(normalize=True).mul(100).round(2).astype(str)+'%'"
   ]
  },
  {
   "cell_type": "code",
   "execution_count": 314,
   "id": "970a3a98-fbef-4163-ac61-2e961d5eb448",
   "metadata": {},
   "outputs": [
    {
     "data": {
      "text/html": [
       "<div>\n",
       "<style scoped>\n",
       "    .dataframe tbody tr th:only-of-type {\n",
       "        vertical-align: middle;\n",
       "    }\n",
       "\n",
       "    .dataframe tbody tr th {\n",
       "        vertical-align: top;\n",
       "    }\n",
       "\n",
       "    .dataframe thead th {\n",
       "        text-align: right;\n",
       "    }\n",
       "</style>\n",
       "<table border=\"1\" class=\"dataframe\">\n",
       "  <thead>\n",
       "    <tr style=\"text-align: right;\">\n",
       "      <th></th>\n",
       "      <th>ID</th>\n",
       "      <th>sessions</th>\n",
       "      <th>drives</th>\n",
       "      <th>total_sessions</th>\n",
       "      <th>n_days_after_onboarding</th>\n",
       "      <th>total_navigations_fav1</th>\n",
       "      <th>total_navigations_fav2</th>\n",
       "      <th>driven_km_drives</th>\n",
       "      <th>duration_minutes_drives</th>\n",
       "      <th>activity_days</th>\n",
       "      <th>driving_days</th>\n",
       "    </tr>\n",
       "    <tr>\n",
       "      <th>label</th>\n",
       "      <th></th>\n",
       "      <th></th>\n",
       "      <th></th>\n",
       "      <th></th>\n",
       "      <th></th>\n",
       "      <th></th>\n",
       "      <th></th>\n",
       "      <th></th>\n",
       "      <th></th>\n",
       "      <th></th>\n",
       "      <th></th>\n",
       "    </tr>\n",
       "  </thead>\n",
       "  <tbody>\n",
       "    <tr>\n",
       "      <th>churned</th>\n",
       "      <td>7477.5</td>\n",
       "      <td>59.0</td>\n",
       "      <td>50.0</td>\n",
       "      <td>164.34</td>\n",
       "      <td>1321.0</td>\n",
       "      <td>84.5</td>\n",
       "      <td>11.0</td>\n",
       "      <td>3652.66</td>\n",
       "      <td>1607.18</td>\n",
       "      <td>8.0</td>\n",
       "      <td>6.0</td>\n",
       "    </tr>\n",
       "    <tr>\n",
       "      <th>retained</th>\n",
       "      <td>7509.0</td>\n",
       "      <td>56.0</td>\n",
       "      <td>47.0</td>\n",
       "      <td>157.59</td>\n",
       "      <td>1843.0</td>\n",
       "      <td>68.0</td>\n",
       "      <td>9.0</td>\n",
       "      <td>3464.68</td>\n",
       "      <td>1458.05</td>\n",
       "      <td>17.0</td>\n",
       "      <td>14.0</td>\n",
       "    </tr>\n",
       "  </tbody>\n",
       "</table>\n",
       "</div>"
      ],
      "text/plain": [
       "              ID  sessions  drives  total_sessions  n_days_after_onboarding  \\\n",
       "label                                                                         \n",
       "churned   7477.5      59.0    50.0          164.34                   1321.0   \n",
       "retained  7509.0      56.0    47.0          157.59                   1843.0   \n",
       "\n",
       "          total_navigations_fav1  total_navigations_fav2  driven_km_drives  \\\n",
       "label                                                                        \n",
       "churned                     84.5                    11.0           3652.66   \n",
       "retained                    68.0                     9.0           3464.68   \n",
       "\n",
       "          duration_minutes_drives  activity_days  driving_days  \n",
       "label                                                           \n",
       "churned                   1607.18            8.0           6.0  \n",
       "retained                  1458.05           17.0          14.0  "
      ]
     },
     "execution_count": 314,
     "metadata": {},
     "output_type": "execute_result"
    }
   ],
   "source": [
    "#CALCULATE MEDIAN OF BOTH GROUPS TO EXCLUDE OUTLIERS\n",
    "data.groupby(['label']).median(numeric_only=True).round(2)"
   ]
  },
  {
   "cell_type": "code",
   "execution_count": 325,
   "id": "4d846d0a-2f71-4e3e-ab28-aeabb270f25d",
   "metadata": {},
   "outputs": [
    {
     "data": {
      "text/plain": [
       "label\n",
       "churned     73.05%\n",
       "retained    73.72%\n",
       "dtype: object"
      ]
     },
     "execution_count": 325,
     "metadata": {},
     "output_type": "execute_result"
    }
   ],
   "source": [
    "#CHURNED USERS HAD MORE DRIVES IN FEWER DAYS, AND THEIR TRIPS WERE FARTHER AND LONGER IN DURATION\n",
    "#CALCULATE MEDIAN KILOMETERS PER DRIVE\n",
    "\n",
    "data_label = data.groupby(['label']).median(numeric_only=True)\n",
    "kilometers_per_drive = data_label['driven_km_drives']/data_label['drives']\n",
    "kilometers_per_drive.round(2).astype(str)+'%'"
   ]
  },
  {
   "cell_type": "code",
   "execution_count": 331,
   "id": "165b2d98-f44d-47a7-8f3d-c67a8e815330",
   "metadata": {},
   "outputs": [
    {
     "data": {
      "text/plain": [
       "label\n",
       "churned     608.775944\n",
       "retained    247.477472\n",
       "dtype: float64"
      ]
     },
     "execution_count": 331,
     "metadata": {},
     "output_type": "execute_result"
    }
   ],
   "source": [
    "#MEDIAN USER FROM BOTH GROUPS DROVE ~73km/drive\n",
    "#CALCULATE KILOMETERS PER DAYS\n",
    "\n",
    "kilometers_per_day = data_label['driven_km_drives']/data_label['driving_days']\n",
    "kilometers_per_day"
   ]
  },
  {
   "cell_type": "code",
   "execution_count": null,
   "id": "f2efb81d-ec3f-4bd0-95c6-4a5d3e70addf",
   "metadata": {},
   "outputs": [],
   "source": [
    "#MEDIAN USER WHO CHURNED DROVE 608km PER DAY\n",
    "#ALMOST 250% DISTANCE OF RETAINED USERS\n",
    "#THE NEEDS OF CHURNED USERS DIFFER FROM THE NEEDS OF A MORE TYPICAL DRIVER"
   ]
  },
  {
   "cell_type": "code",
   "execution_count": 358,
   "id": "406a5adb-1058-4e91-86f1-d4fb7a9f18c0",
   "metadata": {},
   "outputs": [
    {
     "data": {
      "text/plain": [
       "label     device \n",
       "churned   Android     891\n",
       "          iPhone     1645\n",
       "retained  Android    4183\n",
       "          iPhone     7580\n",
       "dtype: int64"
      ]
     },
     "execution_count": 358,
     "metadata": {},
     "output_type": "execute_result"
    }
   ],
   "source": [
    "#FOR EACH LABEL, CALCULATE THE NUMBER OF ANDROID USERS VS. IPHONE USERS\n",
    "data.groupby(['label','device']).size()"
   ]
  },
  {
   "cell_type": "code",
   "execution_count": 361,
   "id": "39626c1e-ac23-4c26-a52a-d33a5343e5e1",
   "metadata": {},
   "outputs": [
    {
     "data": {
      "text/plain": [
       "label     device \n",
       "churned   iPhone     64.87%\n",
       "          Android    35.13%\n",
       "retained  iPhone     64.44%\n",
       "          Android    35.56%\n",
       "Name: proportion, dtype: object"
      ]
     },
     "execution_count": 361,
     "metadata": {},
     "output_type": "execute_result"
    }
   ],
   "source": [
    "#THE RATIO OF ANDROID AND IPHONE IS CONSISTENT BETWEEN BOTH GROUPS AND THE OVERALL DATASET\n",
    "data.groupby('label')['device'].value_counts(normalize=True).mul(100).round(2).astype(str)+'%'"
   ]
  },
  {
   "cell_type": "markdown",
   "id": "29038bb2-53f9-4483-bedc-cf6ac0fce21c",
   "metadata": {},
   "source": [
    "**SUMMARY**\n",
    "\n",
    "The dataset has 700 missing values in the label column. There was no obvious pattern to the missing values.\n",
    "\n",
    "Median was chosen to prevent the influence of outliers.\n",
    "\n",
    "The median user who churned drove 608 kilometers each day, which is almost 250% the per-drive-day distance of retained users.\n",
    "\n",
    "Android users comprised approximately 36% of the sample, while iPhone users made up about 64%. \n",
    "\n",
    "However, there is nothing suggestive of churn being correlated with device."
   ]
  },
  {
   "cell_type": "code",
   "execution_count": null,
   "id": "ae874bbb-233b-4382-9d17-9ece6b582c4d",
   "metadata": {},
   "outputs": [],
   "source": []
  }
 ],
 "metadata": {
  "kernelspec": {
   "display_name": "Python 3 (ipykernel)",
   "language": "python",
   "name": "python3"
  },
  "language_info": {
   "codemirror_mode": {
    "name": "ipython",
    "version": 3
   },
   "file_extension": ".py",
   "mimetype": "text/x-python",
   "name": "python",
   "nbconvert_exporter": "python",
   "pygments_lexer": "ipython3",
   "version": "3.11.3"
  }
 },
 "nbformat": 4,
 "nbformat_minor": 5
}
